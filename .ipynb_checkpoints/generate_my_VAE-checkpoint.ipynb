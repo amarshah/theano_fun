{
 "metadata": {
  "name": "",
  "signature": "sha256:81a73326cc20f6b05b5411b5108a41aaac8741661a785192aa27c8368b8ee827"
 },
 "nbformat": 3,
 "nbformat_minor": 0,
 "worksheets": [
  {
   "cells": [
    {
     "cell_type": "code",
     "collapsed": false,
     "input": [
      "import cPickle, numpy\n",
      "import numpy.random as rand\n",
      "import matplotlib.pylab as plt\n",
      "\n",
      "dict = cPickle.load(open('/data/lisatmp3/shahamar/VAE_model.pkl'))\n",
      "\n",
      "u = numpy.dot(rand.randn(1,20),dict['W_decoder_1']) \n",
      "v = dict['b_decoder_1'].reshape(1,500)\n",
      "layer1 = numpy.tanh(u + v)\n",
      "\n",
      "layer2 = numpy.dot(layer1, dict['W_decoder_p']) + dict['b_decoder_p']\n",
      "\n",
      "sample = layer2.reshape(28,28)\n",
      "\n",
      "digit = numpy.minimum(numpy.maximum(sample,0),1)\n",
      "\n",
      "fig = plt.figure()\n",
      "plt.imshow(digit, cmap = plt.cm.Greys)\n",
      "plt.show()"
     ],
     "language": "python",
     "metadata": {},
     "outputs": [],
     "prompt_number": 10
    },
    {
     "cell_type": "code",
     "collapsed": false,
     "input": [
      "import cPickle, numpy\n",
      "import numpy.random as rand\n",
      "import matplotlib.pylab as plt\n",
      "\n",
      "dict = cPickle.load(open('/data/lisatmp3/shahamar/VAE_compress.pkl'))\n",
      "\n",
      "u = numpy.dot(rand.randn(1,30),dict['W_decoder_1']) \n",
      "v = dict['b_decoder_1'].reshape(1,500)\n",
      "layer1 = numpy.tanh(u + v)\n",
      "\n",
      "layer2 = numpy.dot(layer1, dict['W_decoder_p']) + dict['b_decoder_p']\n",
      "\n",
      "sample = layer2.reshape(28,28)\n",
      "\n",
      "digit = numpy.minimum(numpy.maximum(sample,0),1)\n",
      "\n",
      "fig = plt.figure()\n",
      "plt.imshow(digit, cmap = plt.cm.Greys)\n",
      "plt.show()\n"
     ],
     "language": "python",
     "metadata": {},
     "outputs": [],
     "prompt_number": 17
    },
    {
     "cell_type": "code",
     "collapsed": false,
     "input": [],
     "language": "python",
     "metadata": {},
     "outputs": [],
     "prompt_number": 15
    },
    {
     "cell_type": "code",
     "collapsed": false,
     "input": [],
     "language": "python",
     "metadata": {},
     "outputs": []
    }
   ],
   "metadata": {}
  }
 ]
}