{
 "metadata": {
  "name": "",
  "signature": "sha256:9c07a21365b8c390b8e3a576c4eeae56c863f94481fa27e32f58485b68040f6a"
 },
 "nbformat": 3,
 "nbformat_minor": 0,
 "worksheets": [
  {
   "cells": [
    {
     "cell_type": "code",
     "collapsed": false,
     "input": [
      "import cPickle, numpy\n",
      "import numpy.random as rand\n",
      "import matplotlib.pylab as plt\n",
      "\n",
      "def sigmoid(x):\n",
      "  return 1 / (1 + numpy.exp(-x))\n",
      "\n",
      "dict = cPickle.load(open('/data/lisatmp3/shahamar/VAE_model2.pkl'))\n",
      "\n",
      "u = numpy.dot(rand.randn(2,30),dict['W_decoder_1']) \n",
      "v = dict['b_decoder_1'].reshape(500,)\n",
      "layer1 = numpy.tanh(u + v)\n",
      "\n",
      "layer2 = sigmoid(numpy.dot(layer1, dict['W_decoder_p']) + dict['b_decoder_p'])\n",
      "\n",
      "sample = layer2[0].reshape(28,28)\n",
      "\n",
      "digit = 1-sample#numpy.minimum(numpy.maximum(sample,0),1)\n",
      "\n",
      "fig = plt.figure()\n",
      "plt.imshow(digit, cmap = plt.cm.Greys)\n",
      "plt.show()"
     ],
     "language": "python",
     "metadata": {},
     "outputs": [],
     "prompt_number": 49
    },
    {
     "cell_type": "code",
     "collapsed": false,
     "input": [
      "import cPickle, numpy\n",
      "import numpy.random as rand\n",
      "import matplotlib.pylab as plt\n",
      "\n",
      "dict = cPickle.load(open('/data/lisatmp3/shahamar/VAE_compress.pkl'))\n",
      "\n",
      "u = numpy.dot(rand.randn(1,30),dict['W_decoder_1']) \n",
      "v = dict['b_decoder_1'].reshape(1,500)\n",
      "layer1 = numpy.tanh(u + v)\n",
      "\n",
      "layer2 = numpy.dot(layer1, dict['W_decoder_p']) + dict['b_decoder_p']\n",
      "\n",
      "sample = layer2.reshape(28,28)\n",
      "\n",
      "digit = 1-sample#numpy.minimum(numpy.maximum(sample,0),1)\n",
      "\n",
      "fig = plt.figure()\n",
      "plt.imshow(digit, cmap = plt.cm.Greys)\n",
      "plt.show()\n"
     ],
     "language": "python",
     "metadata": {},
     "outputs": [],
     "prompt_number": 50
    },
    {
     "cell_type": "code",
     "collapsed": false,
     "input": [
      "print dict['W_decoder_1'].shape"
     ],
     "language": "python",
     "metadata": {},
     "outputs": [
      {
       "output_type": "stream",
       "stream": "stdout",
       "text": [
        "(30, 500)\n"
       ]
      }
     ],
     "prompt_number": 51
    },
    {
     "cell_type": "code",
     "collapsed": false,
     "input": [],
     "language": "python",
     "metadata": {},
     "outputs": []
    }
   ],
   "metadata": {}
  }
 ]
}