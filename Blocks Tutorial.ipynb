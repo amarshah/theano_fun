{
 "metadata": {
  "name": "",
  "signature": "sha256:2227a618e9fa39fb90c805a0c68fc9709b5a78f51ae7e85a61f68f0318969707"
 },
 "nbformat": 3,
 "nbformat_minor": 0,
 "worksheets": [
  {
   "cells": [
    {
     "cell_type": "code",
     "collapsed": false,
     "input": [
      "from theano import tensor\n",
      "x = tensor.matrix('features')\n",
      "from blocks.bricks import Linear, Rectifier, Softmax"
     ],
     "language": "python",
     "metadata": {},
     "outputs": [],
     "prompt_number": 1
    },
    {
     "cell_type": "code",
     "collapsed": false,
     "input": [
      "input_to_hidden = Linear(name='input_to_hidden', input_dim=784, output_dim=100)\n",
      "h = Rectifier().apply(input_to_hidden.apply(x))\n",
      "hidden_to_output = Linear(name='hidden_to_output', input_dim=100, output_dim=10)\n",
      "y_hat = Softmax().apply(hidden_to_output.apply(h))"
     ],
     "language": "python",
     "metadata": {},
     "outputs": [],
     "prompt_number": 2
    },
    {
     "cell_type": "code",
     "collapsed": false,
     "input": [],
     "language": "python",
     "metadata": {},
     "outputs": []
    }
   ],
   "metadata": {}
  }
 ]
}